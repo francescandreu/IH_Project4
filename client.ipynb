{
 "cells": [
  {
   "cell_type": "code",
   "execution_count": 2,
   "metadata": {},
   "outputs": [],
   "source": [
    "import requests"
   ]
  },
  {
   "cell_type": "code",
   "execution_count": 10,
   "metadata": {},
   "outputs": [],
   "source": [
    "def post_new_genre(genre_name):\n",
    "    url = 'http://127.0.0.1:8000/sql/insert/genre'\n",
    "    myobj = {\"name\" : genre_name}\n",
    "\n",
    "    x = requests.post(url, params = myobj)\n",
    "    print(x.text)"
   ]
  },
  {
   "cell_type": "code",
   "execution_count": 12,
   "metadata": {},
   "outputs": [],
   "source": [
    "def post_new_director(director_name):\n",
    "    url = 'http://127.0.0.1:8000/sql/insert/director'\n",
    "    myobj = {\"name\" : director_name}\n",
    "\n",
    "    x = requests.post(url, params = myobj)\n",
    "    print(x.text)"
   ]
  },
  {
   "cell_type": "code",
   "execution_count": 18,
   "metadata": {},
   "outputs": [],
   "source": [
    "def post_new_movie(movie_dict):\n",
    "    url = 'http://127.0.0.1:8000/sql/insert/movie'\n",
    "    myobj = {\"title\" : movie_dict[\"title\"], \n",
    "            \"year\" : movie_dict[\"year\"],\n",
    "            \"rating\" : movie_dict[\"rating\"],\n",
    "            \"runtime\" : movie_dict[\"runtime\"],\n",
    "            \"censor\" : movie_dict[\"censor\"],\n",
    "            \"total_gross\" : movie_dict[\"total_gross\"],\n",
    "            \"director\" : movie_dict[\"director\"],\n",
    "            \"genre\" : movie_dict[\"genre\"]}\n",
    "\n",
    "    x = requests.post(url, params = myobj)\n",
    "    print(x.text)"
   ]
  },
  {
   "cell_type": "code",
   "execution_count": 11,
   "metadata": {},
   "outputs": [
    {
     "name": "stdout",
     "output_type": "stream",
     "text": [
      "Query succesfully inserted.\n"
     ]
    }
   ],
   "source": [
    "post_new_genre(\"Romance\")"
   ]
  },
  {
   "cell_type": "code",
   "execution_count": 24,
   "metadata": {},
   "outputs": [
    {
     "name": "stdout",
     "output_type": "stream",
     "text": [
      "Query succesfully inserted.\n"
     ]
    }
   ],
   "source": [
    "movie = {\"title\" : \"NEW_WAR_MOVIE\", \n",
    "        \"year\" : 2022,\n",
    "        \"rating\" : 8.4,\n",
    "        \"runtime\" : 120,\n",
    "        \"censor\" : \"R\",\n",
    "        \"total_gross\" : \"$10.5M\",\n",
    "        \"director\" : \"Peter Jackson\",\n",
    "        \"genre\" : \"War\"}\n",
    "\n",
    "post_new_movie(movie)"
   ]
  },
  {
   "cell_type": "code",
   "execution_count": null,
   "metadata": {},
   "outputs": [],
   "source": []
  }
 ],
 "metadata": {
  "kernelspec": {
   "display_name": "Python 3.9.13 ('Ironhack')",
   "language": "python",
   "name": "python3"
  },
  "language_info": {
   "codemirror_mode": {
    "name": "ipython",
    "version": 3
   },
   "file_extension": ".py",
   "mimetype": "text/x-python",
   "name": "python",
   "nbconvert_exporter": "python",
   "pygments_lexer": "ipython3",
   "version": "3.9.13"
  },
  "orig_nbformat": 4,
  "vscode": {
   "interpreter": {
    "hash": "9b18603bc994250422e49e22e4537a66eb59e0e9932322e196d88f02f10586ad"
   }
  }
 },
 "nbformat": 4,
 "nbformat_minor": 2
}
